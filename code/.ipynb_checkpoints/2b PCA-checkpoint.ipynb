{
 "cells": [
  {
   "cell_type": "code",
   "execution_count": 1,
   "metadata": {},
   "outputs": [],
   "source": [
    "%matplotlib inline\n",
    "import pandas as pd\n",
    "from sklearn.preprocessing import StandardScaler, MinMaxScaler\n",
    "import numpy as np\n",
    "from sklearn.ensemble import RandomForestRegressor\n",
    "import matplotlib.pyplot as plt\n",
    "from sklearn.linear_model import Lasso\n",
    "from sklearn.decomposition import PCA \n",
    "import torch\n",
    "import torch.nn as nn\n",
    "from torch.autograd import Variable\n",
    "from torch.utils.data import  DataLoader\n",
    "from tqdm.notebook import tqdm\n",
    "from sklearn.metrics import mean_squared_error as mse"
   ]
  },
  {
   "cell_type": "code",
   "execution_count": 2,
   "metadata": {},
   "outputs": [],
   "source": [
    "X = pd.read_csv(\"../data/processed/gw_stage.CSV\",\n",
    "                    parse_dates=['Datetime'],\n",
    "                    index_col=['Datetime'])\n",
    "y = pd.read_csv(\"../data/processed/spring.CSV\",\n",
    "                    parse_dates=['datetime'],\n",
    "                    index_col=['datetime'])\n",
    "X.drop(X.columns[[8,9,10,11,12,13, 14,15, 25, 61]], axis=1, inplace=True)\n"
   ]
  },
  {
   "cell_type": "code",
   "execution_count": 3,
   "metadata": {},
   "outputs": [],
   "source": [
    "import csv\n",
    "\n",
    "with open('../data/processed/NameKey.csv') as f:\n",
    "    next(f)  # Skip the header\n",
    "    reader = csv.reader(f, skipinitialspace=True)\n",
    "    NameKey = dict(reader)\n",
    "    #print(NameKey)"
   ]
  },
  {
   "cell_type": "code",
   "execution_count": 4,
   "metadata": {},
   "outputs": [
    {
     "name": "stdout",
     "output_type": "stream",
     "text": [
      "(880, 66)\n",
      "(880,)\n",
      "(221, 66)\n",
      "(221,)\n"
     ]
    }
   ],
   "source": [
    "mm=MinMaxScaler()\n",
    "ss=StandardScaler()\n",
    "X_ss=ss.fit_transform(X)\n",
    "y_mm=mm.fit_transform(y)\n",
    "\n",
    "X_train=X_ss[:880,:]\n",
    "X_test=X_ss[880:,:]\n",
    "y_train=y_mm[:880,0]\n",
    "y_test=y_mm[880:,0]\n",
    "\n",
    "print(X_train.shape)\n",
    "print(y_train.shape)\n",
    "print(X_test.shape)\n",
    "print(y_test.shape)"
   ]
  },
  {
   "cell_type": "code",
   "execution_count": 5,
   "metadata": {},
   "outputs": [
    {
     "name": "stdout",
     "output_type": "stream",
     "text": [
      "pCA Components [[ 0.07430481  0.16568587  0.17090651 ...  0.14611379 -0.00408921\n",
      "   0.00991744]\n",
      " [ 0.08819519  0.01977919 -0.08167888 ...  0.02509695  0.1447293\n",
      "   0.01729859]\n",
      " [ 0.16896488 -0.01807208 -0.03796004 ... -0.17767028 -0.26736854\n",
      "  -0.01223994]\n",
      " ...\n",
      " [ 0.00447577  0.06506863  0.39626508 ... -0.01903494 -0.00266439\n",
      "  -0.00420755]\n",
      " [ 0.00077829 -0.05445395  0.25249052 ... -0.00837749 -0.00991165\n",
      "  -0.00251778]\n",
      " [ 0.00410553  0.00249099  0.13887202 ...  0.02230314 -0.00712358\n",
      "  -0.00195228]]\n",
      "PCA Explained Variance:  [2.91205605e+01 8.56317040e+00 5.36394157e+00 4.43910860e+00\n",
      " 2.78149569e+00 1.75175284e+00 1.57070695e+00 1.37683115e+00\n",
      " 1.22887060e+00 1.10873957e+00 9.22881019e-01 7.85709719e-01\n",
      " 7.02731851e-01 6.45033649e-01 5.69008446e-01 4.90666761e-01\n",
      " 4.44155551e-01 4.37040941e-01 3.60377814e-01 3.18758996e-01\n",
      " 2.99927147e-01 2.56498487e-01 2.34243036e-01 2.11547253e-01\n",
      " 2.07707818e-01 1.80086176e-01 1.59851530e-01 1.44967968e-01\n",
      " 1.36937679e-01 1.26486522e-01 1.21951717e-01 1.15983908e-01\n",
      " 1.07818443e-01 8.70461827e-02 7.05989772e-02 6.43478396e-02\n",
      " 6.02203557e-02 5.35864827e-02 5.19592644e-02 4.31717494e-02\n",
      " 3.92465813e-02 3.29585340e-02 3.14088375e-02 2.86523563e-02\n",
      " 2.58879727e-02 2.53665471e-02 2.40752799e-02 1.95084212e-02\n",
      " 1.86178192e-02 1.78999401e-02 1.46948817e-02 1.28031604e-02\n",
      " 9.92009450e-03 9.09650960e-03 7.06872987e-03 6.27261515e-03\n",
      " 4.97701590e-03 4.58230194e-03 3.07547218e-03 2.13486631e-03\n",
      " 1.71751130e-03 1.16725538e-03 9.10097973e-04 7.25671825e-04\n",
      " 4.24543956e-04 3.25839481e-04]\n",
      "Percent varienace explained by PCA:  [4.40819868e-01 1.29627163e-01 8.11980255e-02 6.71981319e-02\n",
      " 4.21055963e-02 2.65176028e-02 2.37769747e-02 2.08421307e-02\n",
      " 1.86023403e-02 1.67838264e-02 1.39703454e-02 1.18938801e-02\n",
      " 1.06377816e-02 9.76436042e-03 8.61350962e-03 7.42759251e-03\n",
      " 6.72351727e-03 6.61581807e-03 5.45531053e-03 4.82529513e-03\n",
      " 4.54022323e-03 3.88281089e-03 3.54591335e-03 3.20235019e-03\n",
      " 3.14422976e-03 2.72610015e-03 2.41979307e-03 2.19448937e-03\n",
      " 2.07292884e-03 1.91472180e-03 1.84607503e-03 1.75573582e-03\n",
      " 1.63212902e-03 1.31768366e-03 1.06870992e-03 9.74081738e-04\n",
      " 9.11600903e-04 8.11178969e-04 7.86546539e-04 6.53523303e-04\n",
      " 5.94105076e-04 4.98918165e-04 4.75459242e-04 4.33732309e-04\n",
      " 3.91885751e-04 3.83992538e-04 3.64445653e-04 2.95313673e-04\n",
      " 2.81831959e-04 2.70964881e-04 2.22447498e-04 1.93811087e-04\n",
      " 1.50167946e-04 1.37700721e-04 1.07004691e-04 9.49533023e-05\n",
      " 7.53408401e-05 6.93657575e-05 4.65557399e-05 3.23170801e-05\n",
      " 2.59992627e-05 1.76696242e-05 1.37768388e-05 1.09850413e-05\n",
      " 6.42664179e-06 4.93247776e-06]\n"
     ]
    }
   ],
   "source": [
    "##PCA Techniques\n",
    "pca = PCA()\n",
    "X_pca = pca.fit(X_ss)\n",
    "print('pCA Components', pca.components_)\n",
    "print('PCA Explained Variance: ',pca.explained_variance_)\n",
    "print('Percent varienace explained by PCA: ',pca.explained_variance_ratio_)"
   ]
  },
  {
   "cell_type": "code",
   "execution_count": 8,
   "metadata": {},
   "outputs": [
    {
     "data": {
      "image/png": "[encoded data removed]",
      "text/plain": [
       "<Figure size 432x288 with 1 Axes>"
      ]
     },
     "metadata": {
      "needs_background": "light"
     },
     "output_type": "display_data"
    }
   ],
   "source": [
    "plt.plot(np.cumsum(pca.explained_variance_ratio_))\n",
    "plt.xlabel('number of components')\n",
    "plt.ylabel('cumulative explained variance');"
   ]
  },
  {
   "cell_type": "code",
   "execution_count": 9,
   "metadata": {},
   "outputs": [
    {
     "name": "stdout",
     "output_type": "stream",
     "text": [
      "13\n"
     ]
    }
   ],
   "source": [
    "pca = PCA(n_components = 0.90)\n",
    "X_pca = pca.fit_transform(X_ss) # this will fit and reduce dimensions\n",
    "print(pca.n_components_) # one can print and see how many components are selected. In this case it is 4 same as above we saw in step 5"
   ]
  },
  {
   "cell_type": "code",
   "execution_count": 10,
   "metadata": {},
   "outputs": [
    {
     "data": {
      "text/html": [
       "<div>\n",
       "<style scoped>\n",
       "    .dataframe tbody tr th:only-of-type {\n",
       "        vertical-align: middle;\n",
       "    }\n",
       "\n",
       "    .dataframe tbody tr th {\n",
       "        vertical-align: top;\n",
       "    }\n",
       "\n",
       "    .dataframe thead th {\n",
       "        text-align: right;\n",
       "    }\n",
       "</style>\n",
       "<table border=\"1\" class=\"dataframe\">\n",
       "  <thead>\n",
       "    <tr style=\"text-align: right;\">\n",
       "      <th></th>\n",
       "      <th>0</th>\n",
       "      <th>1</th>\n",
       "      <th>2</th>\n",
       "      <th>3</th>\n",
       "      <th>4</th>\n",
       "      <th>5</th>\n",
       "      <th>6</th>\n",
       "      <th>7</th>\n",
       "      <th>16</th>\n",
       "      <th>17</th>\n",
       "      <th>...</th>\n",
       "      <th>66</th>\n",
       "      <th>67</th>\n",
       "      <th>68</th>\n",
       "      <th>69</th>\n",
       "      <th>70</th>\n",
       "      <th>71</th>\n",
       "      <th>72</th>\n",
       "      <th>73</th>\n",
       "      <th>74</th>\n",
       "      <th>75</th>\n",
       "    </tr>\n",
       "  </thead>\n",
       "  <tbody>\n",
       "    <tr>\n",
       "      <th>0</th>\n",
       "      <td>0.074305</td>\n",
       "      <td>0.165686</td>\n",
       "      <td>0.170907</td>\n",
       "      <td>0.164697</td>\n",
       "      <td>0.172500</td>\n",
       "      <td>0.165139</td>\n",
       "      <td>0.126168</td>\n",
       "      <td>0.098599</td>\n",
       "      <td>0.154751</td>\n",
       "      <td>0.155726</td>\n",
       "      <td>...</td>\n",
       "      <td>0.080581</td>\n",
       "      <td>0.044186</td>\n",
       "      <td>0.037402</td>\n",
       "      <td>0.061038</td>\n",
       "      <td>0.129897</td>\n",
       "      <td>0.128683</td>\n",
       "      <td>0.138084</td>\n",
       "      <td>0.146114</td>\n",
       "      <td>-0.004089</td>\n",
       "      <td>0.009917</td>\n",
       "    </tr>\n",
       "    <tr>\n",
       "      <th>1</th>\n",
       "      <td>0.088195</td>\n",
       "      <td>0.019779</td>\n",
       "      <td>-0.081679</td>\n",
       "      <td>-0.024075</td>\n",
       "      <td>-0.092402</td>\n",
       "      <td>-0.124509</td>\n",
       "      <td>-0.191114</td>\n",
       "      <td>-0.239990</td>\n",
       "      <td>-0.176371</td>\n",
       "      <td>-0.172228</td>\n",
       "      <td>...</td>\n",
       "      <td>0.101927</td>\n",
       "      <td>-0.032709</td>\n",
       "      <td>0.168091</td>\n",
       "      <td>0.133392</td>\n",
       "      <td>0.095187</td>\n",
       "      <td>0.054915</td>\n",
       "      <td>0.021683</td>\n",
       "      <td>0.025097</td>\n",
       "      <td>0.144729</td>\n",
       "      <td>0.017299</td>\n",
       "    </tr>\n",
       "    <tr>\n",
       "      <th>2</th>\n",
       "      <td>0.168965</td>\n",
       "      <td>-0.018072</td>\n",
       "      <td>-0.037960</td>\n",
       "      <td>-0.034745</td>\n",
       "      <td>-0.026387</td>\n",
       "      <td>-0.027680</td>\n",
       "      <td>0.017855</td>\n",
       "      <td>0.052197</td>\n",
       "      <td>-0.003502</td>\n",
       "      <td>-0.006228</td>\n",
       "      <td>...</td>\n",
       "      <td>-0.278849</td>\n",
       "      <td>-0.120870</td>\n",
       "      <td>-0.295454</td>\n",
       "      <td>-0.252782</td>\n",
       "      <td>-0.209640</td>\n",
       "      <td>-0.225316</td>\n",
       "      <td>-0.199327</td>\n",
       "      <td>-0.177670</td>\n",
       "      <td>-0.267369</td>\n",
       "      <td>-0.012240</td>\n",
       "    </tr>\n",
       "    <tr>\n",
       "      <th>3</th>\n",
       "      <td>-0.122184</td>\n",
       "      <td>-0.125506</td>\n",
       "      <td>-0.072648</td>\n",
       "      <td>-0.111291</td>\n",
       "      <td>-0.052960</td>\n",
       "      <td>-0.057454</td>\n",
       "      <td>0.172397</td>\n",
       "      <td>0.147020</td>\n",
       "      <td>0.043866</td>\n",
       "      <td>0.024574</td>\n",
       "      <td>...</td>\n",
       "      <td>0.186739</td>\n",
       "      <td>-0.136172</td>\n",
       "      <td>0.050865</td>\n",
       "      <td>0.201958</td>\n",
       "      <td>-0.129883</td>\n",
       "      <td>-0.027925</td>\n",
       "      <td>0.021001</td>\n",
       "      <td>-0.034378</td>\n",
       "      <td>-0.099951</td>\n",
       "      <td>0.005479</td>\n",
       "    </tr>\n",
       "    <tr>\n",
       "      <th>4</th>\n",
       "      <td>-0.163161</td>\n",
       "      <td>-0.118126</td>\n",
       "      <td>-0.051305</td>\n",
       "      <td>0.015165</td>\n",
       "      <td>-0.041546</td>\n",
       "      <td>0.032261</td>\n",
       "      <td>-0.039868</td>\n",
       "      <td>0.108972</td>\n",
       "      <td>0.027162</td>\n",
       "      <td>0.038322</td>\n",
       "      <td>...</td>\n",
       "      <td>-0.046531</td>\n",
       "      <td>0.212106</td>\n",
       "      <td>0.043055</td>\n",
       "      <td>0.000126</td>\n",
       "      <td>0.080991</td>\n",
       "      <td>0.136512</td>\n",
       "      <td>0.142151</td>\n",
       "      <td>0.146957</td>\n",
       "      <td>0.079861</td>\n",
       "      <td>-0.016805</td>\n",
       "    </tr>\n",
       "    <tr>\n",
       "      <th>5</th>\n",
       "      <td>-0.309235</td>\n",
       "      <td>-0.030475</td>\n",
       "      <td>0.012777</td>\n",
       "      <td>-0.125350</td>\n",
       "      <td>-0.023174</td>\n",
       "      <td>-0.010555</td>\n",
       "      <td>-0.056033</td>\n",
       "      <td>-0.129851</td>\n",
       "      <td>-0.043040</td>\n",
       "      <td>-0.044965</td>\n",
       "      <td>...</td>\n",
       "      <td>-0.051884</td>\n",
       "      <td>-0.038554</td>\n",
       "      <td>-0.058629</td>\n",
       "      <td>-0.060966</td>\n",
       "      <td>0.084216</td>\n",
       "      <td>0.090224</td>\n",
       "      <td>-0.078741</td>\n",
       "      <td>-0.098931</td>\n",
       "      <td>-0.025378</td>\n",
       "      <td>-0.072119</td>\n",
       "    </tr>\n",
       "    <tr>\n",
       "      <th>6</th>\n",
       "      <td>0.069667</td>\n",
       "      <td>-0.077312</td>\n",
       "      <td>-0.083538</td>\n",
       "      <td>-0.066493</td>\n",
       "      <td>-0.063038</td>\n",
       "      <td>-0.010395</td>\n",
       "      <td>0.048802</td>\n",
       "      <td>0.013017</td>\n",
       "      <td>-0.021457</td>\n",
       "      <td>-0.032377</td>\n",
       "      <td>...</td>\n",
       "      <td>-0.039367</td>\n",
       "      <td>0.411444</td>\n",
       "      <td>-0.153757</td>\n",
       "      <td>-0.172974</td>\n",
       "      <td>-0.014165</td>\n",
       "      <td>-0.079947</td>\n",
       "      <td>-0.027630</td>\n",
       "      <td>-0.081499</td>\n",
       "      <td>0.009016</td>\n",
       "      <td>0.281819</td>\n",
       "    </tr>\n",
       "    <tr>\n",
       "      <th>7</th>\n",
       "      <td>0.167870</td>\n",
       "      <td>0.091148</td>\n",
       "      <td>0.047766</td>\n",
       "      <td>0.049570</td>\n",
       "      <td>0.036327</td>\n",
       "      <td>-0.011650</td>\n",
       "      <td>-0.079384</td>\n",
       "      <td>0.083688</td>\n",
       "      <td>0.028095</td>\n",
       "      <td>0.043877</td>\n",
       "      <td>...</td>\n",
       "      <td>0.059213</td>\n",
       "      <td>-0.096235</td>\n",
       "      <td>-0.184335</td>\n",
       "      <td>-0.169574</td>\n",
       "      <td>-0.131125</td>\n",
       "      <td>-0.164968</td>\n",
       "      <td>0.006000</td>\n",
       "      <td>0.017155</td>\n",
       "      <td>0.136284</td>\n",
       "      <td>0.131305</td>\n",
       "    </tr>\n",
       "    <tr>\n",
       "      <th>8</th>\n",
       "      <td>-0.178452</td>\n",
       "      <td>0.032029</td>\n",
       "      <td>-0.080739</td>\n",
       "      <td>-0.025509</td>\n",
       "      <td>-0.061687</td>\n",
       "      <td>-0.032963</td>\n",
       "      <td>-0.085788</td>\n",
       "      <td>0.063877</td>\n",
       "      <td>-0.090315</td>\n",
       "      <td>-0.107259</td>\n",
       "      <td>...</td>\n",
       "      <td>-0.020292</td>\n",
       "      <td>-0.022412</td>\n",
       "      <td>-0.008744</td>\n",
       "      <td>0.095866</td>\n",
       "      <td>-0.025540</td>\n",
       "      <td>0.040650</td>\n",
       "      <td>0.094999</td>\n",
       "      <td>0.046805</td>\n",
       "      <td>-0.087427</td>\n",
       "      <td>-0.274030</td>\n",
       "    </tr>\n",
       "    <tr>\n",
       "      <th>9</th>\n",
       "      <td>0.100083</td>\n",
       "      <td>-0.021463</td>\n",
       "      <td>-0.047980</td>\n",
       "      <td>-0.076218</td>\n",
       "      <td>-0.025519</td>\n",
       "      <td>0.004544</td>\n",
       "      <td>0.000322</td>\n",
       "      <td>0.042512</td>\n",
       "      <td>-0.023456</td>\n",
       "      <td>-0.030716</td>\n",
       "      <td>...</td>\n",
       "      <td>0.124864</td>\n",
       "      <td>-0.399267</td>\n",
       "      <td>0.035050</td>\n",
       "      <td>0.073225</td>\n",
       "      <td>0.016103</td>\n",
       "      <td>0.081214</td>\n",
       "      <td>0.164683</td>\n",
       "      <td>0.113107</td>\n",
       "      <td>-0.055414</td>\n",
       "      <td>0.706024</td>\n",
       "    </tr>\n",
       "    <tr>\n",
       "      <th>10</th>\n",
       "      <td>-0.064142</td>\n",
       "      <td>-0.040876</td>\n",
       "      <td>0.020885</td>\n",
       "      <td>0.146395</td>\n",
       "      <td>-0.037085</td>\n",
       "      <td>-0.051877</td>\n",
       "      <td>-0.101002</td>\n",
       "      <td>-0.037616</td>\n",
       "      <td>0.031064</td>\n",
       "      <td>0.016661</td>\n",
       "      <td>...</td>\n",
       "      <td>-0.228392</td>\n",
       "      <td>-0.038077</td>\n",
       "      <td>0.001608</td>\n",
       "      <td>0.067268</td>\n",
       "      <td>-0.113661</td>\n",
       "      <td>0.119138</td>\n",
       "      <td>-0.269146</td>\n",
       "      <td>-0.240932</td>\n",
       "      <td>0.153356</td>\n",
       "      <td>0.262660</td>\n",
       "    </tr>\n",
       "    <tr>\n",
       "      <th>11</th>\n",
       "      <td>-0.044542</td>\n",
       "      <td>0.102959</td>\n",
       "      <td>0.053725</td>\n",
       "      <td>-0.010819</td>\n",
       "      <td>0.061935</td>\n",
       "      <td>0.093078</td>\n",
       "      <td>-0.026968</td>\n",
       "      <td>-0.089095</td>\n",
       "      <td>-0.012335</td>\n",
       "      <td>-0.012131</td>\n",
       "      <td>...</td>\n",
       "      <td>0.025304</td>\n",
       "      <td>-0.054538</td>\n",
       "      <td>-0.076345</td>\n",
       "      <td>-0.037394</td>\n",
       "      <td>0.129844</td>\n",
       "      <td>0.105273</td>\n",
       "      <td>0.076772</td>\n",
       "      <td>0.022450</td>\n",
       "      <td>-0.411950</td>\n",
       "      <td>0.112121</td>\n",
       "    </tr>\n",
       "    <tr>\n",
       "      <th>12</th>\n",
       "      <td>-0.041506</td>\n",
       "      <td>0.044298</td>\n",
       "      <td>0.058323</td>\n",
       "      <td>-0.157433</td>\n",
       "      <td>0.048498</td>\n",
       "      <td>0.041973</td>\n",
       "      <td>-0.113498</td>\n",
       "      <td>0.035318</td>\n",
       "      <td>0.051033</td>\n",
       "      <td>0.043059</td>\n",
       "      <td>...</td>\n",
       "      <td>-0.084848</td>\n",
       "      <td>-0.124746</td>\n",
       "      <td>-0.003031</td>\n",
       "      <td>-0.021216</td>\n",
       "      <td>0.002309</td>\n",
       "      <td>0.142360</td>\n",
       "      <td>-0.034375</td>\n",
       "      <td>-0.050395</td>\n",
       "      <td>0.215387</td>\n",
       "      <td>-0.178957</td>\n",
       "    </tr>\n",
       "  </tbody>\n",
       "</table>\n",
       "<p>13 rows × 66 columns</p>\n",
       "</div>"
      ],
      "text/plain": [
       "           0         1         2         3         4         5         6  \\\n",
       "0   0.074305  0.165686  0.170907  0.164697  0.172500  0.165139  0.126168   \n",
       "1   0.088195  0.019779 -0.081679 -0.024075 -0.092402 -0.124509 -0.191114   \n",
       "2   0.168965 -0.018072 -0.037960 -0.034745 -0.026387 -0.027680  0.017855   \n",
       "3  -0.122184 -0.125506 -0.072648 -0.111291 -0.052960 -0.057454  0.172397   \n",
       "4  -0.163161 -0.118126 -0.051305  0.015165 -0.041546  0.032261 -0.039868   \n",
       "5  -0.309235 -0.030475  0.012777 -0.125350 -0.023174 -0.010555 -0.056033   \n",
       "6   0.069667 -0.077312 -0.083538 -0.066493 -0.063038 -0.010395  0.048802   \n",
       "7   0.167870  0.091148  0.047766  0.049570  0.036327 -0.011650 -0.079384   \n",
       "8  -0.178452  0.032029 -0.080739 -0.025509 -0.061687 -0.032963 -0.085788   \n",
       "9   0.100083 -0.021463 -0.047980 -0.076218 -0.025519  0.004544  0.000322   \n",
       "10 -0.064142 -0.040876  0.020885  0.146395 -0.037085 -0.051877 -0.101002   \n",
       "11 -0.044542  0.102959  0.053725 -0.010819  0.061935  0.093078 -0.026968   \n",
       "12 -0.041506  0.044298  0.058323 -0.157433  0.048498  0.041973 -0.113498   \n",
       "\n",
       "           7        16        17  ...        66        67        68        69  \\\n",
       "0   0.098599  0.154751  0.155726  ...  0.080581  0.044186  0.037402  0.061038   \n",
       "1  -0.239990 -0.176371 -0.172228  ...  0.101927 -0.032709  0.168091  0.133392   \n",
       "2   0.052197 -0.003502 -0.006228  ... -0.278849 -0.120870 -0.295454 -0.252782   \n",
       "3   0.147020  0.043866  0.024574  ...  0.186739 -0.136172  0.050865  0.201958   \n",
       "4   0.108972  0.027162  0.038322  ... -0.046531  0.212106  0.043055  0.000126   \n",
       "5  -0.129851 -0.043040 -0.044965  ... -0.051884 -0.038554 -0.058629 -0.060966   \n",
       "6   0.013017 -0.021457 -0.032377  ... -0.039367  0.411444 -0.153757 -0.172974   \n",
       "7   0.083688  0.028095  0.043877  ...  0.059213 -0.096235 -0.184335 -0.169574   \n",
       "8   0.063877 -0.090315 -0.107259  ... -0.020292 -0.022412 -0.008744  0.095866   \n",
       "9   0.042512 -0.023456 -0.030716  ...  0.124864 -0.399267  0.035050  0.073225   \n",
       "10 -0.037616  0.031064  0.016661  ... -0.228392 -0.038077  0.001608  0.067268   \n",
       "11 -0.089095 -0.012335 -0.012131  ...  0.025304 -0.054538 -0.076345 -0.037394   \n",
       "12  0.035318  0.051033  0.043059  ... -0.084848 -0.124746 -0.003031 -0.021216   \n",
       "\n",
       "          70        71        72        73        74        75  \n",
       "0   0.129897  0.128683  0.138084  0.146114 -0.004089  0.009917  \n",
       "1   0.095187  0.054915  0.021683  0.025097  0.144729  0.017299  \n",
       "2  -0.209640 -0.225316 -0.199327 -0.177670 -0.267369 -0.012240  \n",
       "3  -0.129883 -0.027925  0.021001 -0.034378 -0.099951  0.005479  \n",
       "4   0.080991  0.136512  0.142151  0.146957  0.079861 -0.016805  \n",
       "5   0.084216  0.090224 -0.078741 -0.098931 -0.025378 -0.072119  \n",
       "6  -0.014165 -0.079947 -0.027630 -0.081499  0.009016  0.281819  \n",
       "7  -0.131125 -0.164968  0.006000  0.017155  0.136284  0.131305  \n",
       "8  -0.025540  0.040650  0.094999  0.046805 -0.087427 -0.274030  \n",
       "9   0.016103  0.081214  0.164683  0.113107 -0.055414  0.706024  \n",
       "10 -0.113661  0.119138 -0.269146 -0.240932  0.153356  0.262660  \n",
       "11  0.129844  0.105273  0.076772  0.022450 -0.411950  0.112121  \n",
       "12  0.002309  0.142360 -0.034375 -0.050395  0.215387 -0.178957  \n",
       "\n",
       "[13 rows x 66 columns]"
      ]
     },
     "execution_count": 10,
     "metadata": {},
     "output_type": "execute_result"
    }
   ],
   "source": [
    "pd.DataFrame(pca.components_, columns = X.columns)"
   ]
  },
  {
   "cell_type": "code",
   "execution_count": 11,
   "metadata": {
    "scrolled": true
   },
   "outputs": [
    {
     "name": "stdout",
     "output_type": "stream",
     "text": [
      "NWFWMD GW-4F-UZ (HWY27 DOT)\n",
      "NWFWMD GW-7S (LEON CR-59)\n",
      "FISHER CREEK @ SPRINGHILL RD.\n",
      "LOST CREEK @ ARRAN RD (CR 368)\n",
      "NWFWMD GW-7F (LEON CR-59)/S818\n",
      "Boone Blvd Holding pond (City ID# 700)\n",
      "Regional Stormwater Facility - City of Tallahassee\n",
      "St. Marks River @ San Marcos de Apalachee S.P.\n",
      "PARK AV D.D.@ VIOLET - S100\n",
      "ST. MARKS RIVER - UPPER DISCHARGE BEFORE SWALLET\n",
      "LAKE BRADFORD\n",
      "INDIAN SPRING RUN AT SR61\n",
      "NE Drainage Ditch @ Centerville and Blairstone\n"
     ]
    }
   ],
   "source": [
    "n_pcs= pca.n_components_ # get number of component\n",
    "# get the index of the most important feature on EACH component\n",
    "most_important = [np.abs(pca.components_[i]).argmax() for i in range(n_pcs)]\n",
    "initial_feature_names = X.columns\n",
    "# get the most important feature names\n",
    "most_important_names = [initial_feature_names[most_important[i]] for i in range(n_pcs)]\n",
    "for i in most_important_names:\n",
    "    print(NameKey[i])"
   ]
  },
  {
   "cell_type": "code",
   "execution_count": 12,
   "metadata": {},
   "outputs": [],
   "source": [
    "#imp_str = map(str, most_important_names) \n",
    "\n",
    "impX=X[most_important_names]"
   ]
  },
  {
   "cell_type": "code",
   "execution_count": 13,
   "metadata": {},
   "outputs": [
    {
     "name": "stdout",
     "output_type": "stream",
     "text": [
      "(880, 13)\n",
      "(880,)\n",
      "(221, 13)\n",
      "(221,)\n"
     ]
    }
   ],
   "source": [
    "mm=MinMaxScaler()\n",
    "ss=StandardScaler()\n",
    "X_ss=ss.fit_transform(impX)\n",
    "y_mm=mm.fit_transform(y)\n",
    "\n",
    "X_train=X_ss[:880,:]\n",
    "X_test=X_ss[880:,:]\n",
    "y_train=y_mm[:880,0]\n",
    "y_test=y_mm[880:,0]\n",
    "\n",
    "print(X_train.shape)\n",
    "print(y_train.shape)\n",
    "print(X_test.shape)\n",
    "print(y_test.shape)"
   ]
  },
  {
   "cell_type": "code",
   "execution_count": 14,
   "metadata": {},
   "outputs": [
    {
     "name": "stdout",
     "output_type": "stream",
     "text": [
      "Train Ser R2:  0.9900887012515576\n",
      "Test Set R2:  -0.603606165973934\n"
     ]
    }
   ],
   "source": [
    "model=RandomForestRegressor()\n",
    "model.fit(X_train, y_train)\n",
    "\n",
    "a=model.score(X_train, y_train)\n",
    "print('Train Ser R2: ', a)\n",
    "b=model.score(X_test, y_test)\n",
    "print('Test Set R2: ',b )"
   ]
  },
  {
   "cell_type": "code",
   "execution_count": 15,
   "metadata": {
    "scrolled": true
   },
   "outputs": [
    {
     "data": {
      "image/png": "[encoded data removed]",
      "text/plain": [
       "<Figure size 720x432 with 1 Axes>"
      ]
     },
     "metadata": {
      "needs_background": "light"
     },
     "output_type": "display_data"
    }
   ],
   "source": [
    "predict=model.predict(X_ss)\n",
    "z=np.reshape(predict,(1101,1))\n",
    "\n",
    "predicted_stage=mm.inverse_transform(z)\n",
    "actual_stage=mm.inverse_transform(y_mm)\n",
    "\n",
    "plt.figure(figsize=(10,6)) #plotting\n",
    "plt.axvline(x=880, c='r', linestyle='--') #size of the training set\n",
    "\n",
    "plt.plot(actual_stage, label='Actual Data') #actual plot\n",
    "plt.plot(predicted_stage, label='Predicted Data') #predicted plot\n",
    "plt.title('RF Spring Stage Prediction: PCA 90% Variance')\n",
    "plt.legend()\n",
    "plt.show() "
   ]
  },
  {
   "cell_type": "code",
   "execution_count": 22,
   "metadata": {},
   "outputs": [
    {
     "data": {
      "text/plain": [
       "0.27225781234920626"
      ]
     },
     "execution_count": 22,
     "metadata": {},
     "output_type": "execute_result"
    }
   ],
   "source": [
    "predict=model.predict(X_test)\n",
    "z=np.reshape(predict,(221,1))\n",
    "\n",
    "predictTest=mm.inverse_transform(z)\n",
    "y_test=y_test.reshape(221,1)\n",
    "actualTest=mm.inverse_transform(y_test)\n",
    "\n",
    "rmse=mse(actualTest, predictTest)**0.5\n",
    "rmse"
   ]
  },
  {
   "cell_type": "code",
   "execution_count": 24,
   "metadata": {},
   "outputs": [],
   "source": [
    "X_train=X_ss[:880,:]\n",
    "X_test=X_ss[880:,:]\n",
    "y_train=y_mm[:880,:]\n",
    "y_test=y_mm[880:,:]\n",
    "\n",
    "\n",
    "X_train_tensors = Variable(torch.Tensor(X_train))\n",
    "X_test_tensors = Variable(torch.Tensor(X_test))\n",
    "\n",
    "y_train_tensors = Variable(torch.Tensor(y_train))\n",
    "y_test_tensors = Variable(torch.Tensor(y_test)) "
   ]
  },
  {
   "cell_type": "code",
   "execution_count": 25,
   "metadata": {},
   "outputs": [
    {
     "name": "stdout",
     "output_type": "stream",
     "text": [
      "Training Shape torch.Size([880, 1, 13]) torch.Size([880, 1])\n",
      "Testing Shape torch.Size([221, 1, 13]) torch.Size([221, 1])\n"
     ]
    }
   ],
   "source": [
    "X_train_tensors_final = torch.reshape(X_train_tensors,   (X_train_tensors.shape[0], 1, X_train_tensors.shape[1]))\n",
    "\n",
    "X_test_tensors_final = torch.reshape(X_test_tensors,  (X_test_tensors.shape[0], 1, X_test_tensors.shape[1]))\n",
    "\n",
    "print(\"Training Shape\", X_train_tensors_final.shape, y_train_tensors.shape)\n",
    "print(\"Testing Shape\", X_test_tensors_final.shape, y_test_tensors.shape) "
   ]
  },
  {
   "cell_type": "code",
   "execution_count": 26,
   "metadata": {},
   "outputs": [],
   "source": [
    "class LSTM1(nn.Module):\n",
    "    def __init__(self, num_classes, input_size, hidden_size, num_layers, seq_length):\n",
    "        super(LSTM1, self).__init__()\n",
    "        self.num_classes = num_classes #number of classes\n",
    "        self.num_layers = num_layers #number of layers\n",
    "        self.input_size = input_size #input size\n",
    "        self.hidden_size = hidden_size #hidden state\n",
    "        self.seq_length = seq_length #sequence length\n",
    "\n",
    "        self.lstm = nn.LSTM(input_size=input_size, hidden_size=hidden_size,\n",
    "                          num_layers=num_layers, batch_first=True) #lstm\n",
    "        self.fc_1 =  nn.Linear(hidden_size, 128) #fully connected 1\n",
    "        self.fc = nn.Linear(128, num_classes) #fully connected last layer\n",
    "\n",
    "        self.relu = nn.ReLU()\n",
    "    \n",
    "    def forward(self,x):\n",
    "        h_0 = Variable(torch.zeros(self.num_layers, x.size(0), self.hidden_size)) #hidden state\n",
    "        c_0 = Variable(torch.zeros(self.num_layers, x.size(0), self.hidden_size)) #internal state\n",
    "        # Propagate input through LSTM\n",
    "        output, (hn, cn) = self.lstm(x, (h_0, c_0)) #lstm with input, hidden, and internal state\n",
    "        hn = hn.view(-1, self.hidden_size) #reshaping the data for Dense layer next\n",
    "        out = self.relu(hn)\n",
    "        out = self.fc_1(out) #first Dense\n",
    "        out = self.relu(out) #relu\n",
    "        out = self.fc(out) #Final Output\n",
    "        return out"
   ]
  },
  {
   "cell_type": "code",
   "execution_count": 27,
   "metadata": {},
   "outputs": [],
   "source": [
    "#Hyper Parameters\n",
    "num_epochs = 1000 #1000 epochs\n",
    "learning_rate = 0.001 #0.001 lr\n",
    "input_size = 13 #number of features\n",
    "hidden_size = 26 #number of features in hidden state\n",
    "num_layers = 1 #number of stacked lstm layers\n",
    "\n",
    "num_classes = 1 #number of output classes "
   ]
  },
  {
   "cell_type": "code",
   "execution_count": 28,
   "metadata": {},
   "outputs": [
    {
     "name": "stdout",
     "output_type": "stream",
     "text": [
      "LSTM1(\n",
      "  (lstm): LSTM(13, 26, batch_first=True)\n",
      "  (fc_1): Linear(in_features=26, out_features=128, bias=True)\n",
      "  (fc): Linear(in_features=128, out_features=1, bias=True)\n",
      "  (relu): ReLU()\n",
      ")\n"
     ]
    }
   ],
   "source": [
    "lstm1 = LSTM1(num_classes, input_size, hidden_size, num_layers, X_train_tensors_final.shape[1]) #our lstm class \n",
    "criterion = torch.nn.MSELoss()    # mean-squared error for regression\n",
    "optimizer = torch.optim.Adam(lstm1.parameters(), lr=learning_rate) \n",
    "\n",
    "print(lstm1)"
   ]
  },
  {
   "cell_type": "code",
   "execution_count": 29,
   "metadata": {},
   "outputs": [
    {
     "name": "stderr",
     "output_type": "stream",
     "text": [
      "C:\\Users\\kcompare\\Anaconda3\\lib\\site-packages\\torch\\autograd\\__init__.py:149: UserWarning: CUDA initialization: The NVIDIA driver on your system is too old (found version 6050). Please update your GPU driver by downloading and installing a new version from the URL: http://www.nvidia.com/Download/index.aspx Alternatively, go to: https://pytorch.org to install a PyTorch version that has been compiled with your version of the CUDA driver. (Triggered internally at  ..\\c10\\cuda\\CUDAFunctions.cpp:115.)\n",
      "  allow_unreachable=True, accumulate_grad=True)  # allow_unreachable flag\n"
     ]
    },
    {
     "name": "stdout",
     "output_type": "stream",
     "text": [
      "Epoch: 0, loss: 0.16608\n",
      "Epoch: 100, loss: 0.00792\n",
      "Epoch: 200, loss: 0.00320\n",
      "Epoch: 300, loss: 0.00184\n",
      "Epoch: 400, loss: 0.00121\n",
      "Epoch: 500, loss: 0.00084\n",
      "Epoch: 600, loss: 0.00063\n",
      "Epoch: 700, loss: 0.00047\n",
      "Epoch: 800, loss: 0.00036\n",
      "Epoch: 900, loss: 0.00029\n"
     ]
    }
   ],
   "source": [
    "for epoch in range(num_epochs):\n",
    "    outputs = lstm1.forward(X_train_tensors_final) #forward pass\n",
    "    optimizer.zero_grad() #caluclate the gradient, manually setting to 0\n",
    " \n",
    "  # obtain the loss function\n",
    "    loss = criterion(outputs, y_train_tensors)\n",
    " \n",
    "    loss.backward() #calculates the loss of the loss function\n",
    " \n",
    "    optimizer.step() #improve from loss, i.e backprop\n",
    "    if epoch % 100 == 0:\n",
    "        print(\"Epoch: %d, loss: %1.5f\" % (epoch, loss.item())) "
   ]
  },
  {
   "cell_type": "code",
   "execution_count": 30,
   "metadata": {},
   "outputs": [],
   "source": [
    "df_X_ss = Variable(torch.Tensor(X_ss)) #converting to Tensors\n",
    "df_y_mm = Variable(torch.Tensor(y_mm))\n",
    "#reshaping the dataset\n",
    "df_X_ss = torch.reshape(df_X_ss, (df_X_ss.shape[0], 1, df_X_ss.shape[1]))"
   ]
  },
  {
   "cell_type": "code",
   "execution_count": 31,
   "metadata": {},
   "outputs": [
    {
     "data": {
      "image/png": "[encoded data removed]",
      "text/plain": [
       "<Figure size 720x432 with 1 Axes>"
      ]
     },
     "metadata": {
      "needs_background": "light"
     },
     "output_type": "display_data"
    }
   ],
   "source": [
    "train_predict = lstm1(df_X_ss)#forward pass\n",
    "data_predict = train_predict.data.numpy() #numpy conversion\n",
    "dataY_plot = df_y_mm.data.numpy()\n",
    "\n",
    "data_predict = mm.inverse_transform(data_predict) #reverse transformation\n",
    "dataY_plot = mm.inverse_transform(dataY_plot)\n",
    "plt.figure(figsize=(10,6)) #plotting\n",
    "plt.axvline(x=880, c='r', linestyle='--') #size of the training set\n",
    "\n",
    "plt.plot(dataY_plot, label='Actual Data') #actual plot\n",
    "plt.plot(data_predict, label='Predicted Data') #predicted plot\n",
    "plt.title('LSTM Spring Stage Prediction after PCA Feature Selection')\n",
    "plt.legend()\n",
    "plt.show()"
   ]
  },
  {
   "cell_type": "code",
   "execution_count": 34,
   "metadata": {},
   "outputs": [
    {
     "data": {
      "text/plain": [
       "0.2708204547107067"
      ]
     },
     "execution_count": 34,
     "metadata": {},
     "output_type": "execute_result"
    }
   ],
   "source": [
    "\n",
    "\n",
    "test_predict = lstm1(X_test_tensors_final)#forward pass\n",
    "predict_scaled = test_predict.data.numpy() #numpy conversion\n",
    "\n",
    "predictTest = mm.inverse_transform(predict_scaled)\n",
    "actualTest = mm.inverse_transform(y_test)\n",
    "\n",
    "rmse=mse(actualTest, predictTest)**0.5\n",
    "rmse"
   ]
  },
  {
   "cell_type": "code",
   "execution_count": null,
   "metadata": {},
   "outputs": [],
   "source": []
  }
 ],
 "metadata": {
  "kernelspec": {
   "display_name": "Python 3",
   "language": "python",
   "name": "python3"
  },
  "language_info": {
   "codemirror_mode": {
    "name": "ipython",
    "version": 3
   },
   "file_extension": ".py",
   "mimetype": "text/x-python",
   "name": "python",
   "nbconvert_exporter": "python",
   "pygments_lexer": "ipython3",
   "version": "3.8.5"
  }
 },
 "nbformat": 4,
 "nbformat_minor": 4
}
