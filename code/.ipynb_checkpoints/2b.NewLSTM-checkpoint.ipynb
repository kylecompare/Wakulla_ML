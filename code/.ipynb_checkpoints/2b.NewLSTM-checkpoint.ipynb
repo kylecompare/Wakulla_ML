{
 "cells": [
  {
   "cell_type": "code",
   "execution_count": 1,
   "metadata": {},
   "outputs": [
    {
     "data": {
      "text/plain": [
       "<torch._C.Generator at 0x1c2ff3f2890>"
      ]
     },
     "execution_count": 1,
     "metadata": {},
     "output_type": "execute_result"
    }
   ],
   "source": [
    "import pandas as pd\n",
    "import numpy as np\n",
    "import matplotlib.pyplot as plt\n",
    "from torch import nn\n",
    "import torch\n",
    "from sklearn.metrics import mean_squared_error\n",
    "from torch.utils.data import Dataset\n",
    "from sklearn.preprocessing import MinMaxScaler, StandardScaler\n",
    "from sklearn.model_selection import train_test_split\n",
    "from torch.utils.data import DataLoader \n",
    "from torch.autograd import Variable\n",
    "from tqdm import trange\n",
    "\n",
    "torch.manual_seed(0)"
   ]
  },
  {
   "cell_type": "code",
   "execution_count": 2,
   "metadata": {},
   "outputs": [],
   "source": [
    "if torch.cuda.is_available():  \n",
    "    device = \"cuda:0\" \n",
    "else:  \n",
    "    device = \"cpu\"  \n",
    "    \n",
    "#https://www.kaggle.com/code/anthokalel/statistical-tests-lstm-pytorch/notebook"
   ]
  },
  {
   "cell_type": "code",
   "execution_count": 11,
   "metadata": {},
   "outputs": [
    {
     "name": "stdout",
     "output_type": "stream",
     "text": [
      "Initial Input Size:  (1101, 74)\n",
      "NWFWMD-NITRATE 1\n",
      "NWFWMD-NITRATE 2/S790\n",
      "NWFWMD-NITRATE 4/S782\n",
      "NWFWMD-NITRATE 6/S797\n",
      "WAKULLA CORRECTIONAL INSTITUTE 1/S779\n",
      "WAKULLA CONDUIT WELL@WEST OF HWY 61\n",
      "NWFWMD GW-12F (RIVERSPRINGS MS)/S820\n",
      "St  Marks River @ San Marcos de Apalachee S P \n",
      "WAKULLA RIVER AT BOAT TRAM\n",
      "INDIAN SPRING RUN AT SR61\n",
      "Excluded GW-SW Input Shape:  (1101, 64)\n"
     ]
    },
    {
     "data": {
      "text/html": [
       "<div>\n",
       "<style scoped>\n",
       "    .dataframe tbody tr th:only-of-type {\n",
       "        vertical-align: middle;\n",
       "    }\n",
       "\n",
       "    .dataframe tbody tr th {\n",
       "        vertical-align: top;\n",
       "    }\n",
       "\n",
       "    .dataframe thead th {\n",
       "        text-align: right;\n",
       "    }\n",
       "</style>\n",
       "<table border=\"1\" class=\"dataframe\">\n",
       "  <thead>\n",
       "    <tr style=\"text-align: right;\">\n",
       "      <th></th>\n",
       "      <th>Precip</th>\n",
       "      <th>Max_Temp</th>\n",
       "      <th>Min_Temp</th>\n",
       "      <th>Mean_Temp</th>\n",
       "      <th>PET</th>\n",
       "    </tr>\n",
       "    <tr>\n",
       "      <th>Datetime</th>\n",
       "      <th></th>\n",
       "      <th></th>\n",
       "      <th></th>\n",
       "      <th></th>\n",
       "      <th></th>\n",
       "    </tr>\n",
       "  </thead>\n",
       "  <tbody>\n",
       "    <tr>\n",
       "      <th>2017-01-27</th>\n",
       "      <td>0.00000</td>\n",
       "      <td>58</td>\n",
       "      <td>39</td>\n",
       "      <td>48.5</td>\n",
       "      <td>3.189802</td>\n",
       "    </tr>\n",
       "    <tr>\n",
       "      <th>2017-01-28</th>\n",
       "      <td>0.00000</td>\n",
       "      <td>51</td>\n",
       "      <td>38</td>\n",
       "      <td>44.5</td>\n",
       "      <td>2.403944</td>\n",
       "    </tr>\n",
       "    <tr>\n",
       "      <th>2017-01-29</th>\n",
       "      <td>0.00000</td>\n",
       "      <td>63</td>\n",
       "      <td>38</td>\n",
       "      <td>50.5</td>\n",
       "      <td>3.755256</td>\n",
       "    </tr>\n",
       "    <tr>\n",
       "      <th>2017-01-30</th>\n",
       "      <td>0.00000</td>\n",
       "      <td>65</td>\n",
       "      <td>31</td>\n",
       "      <td>48.0</td>\n",
       "      <td>4.131664</td>\n",
       "    </tr>\n",
       "    <tr>\n",
       "      <th>2017-01-31</th>\n",
       "      <td>0.00000</td>\n",
       "      <td>75</td>\n",
       "      <td>35</td>\n",
       "      <td>55.0</td>\n",
       "      <td>5.095131</td>\n",
       "    </tr>\n",
       "    <tr>\n",
       "      <th>...</th>\n",
       "      <td>...</td>\n",
       "      <td>...</td>\n",
       "      <td>...</td>\n",
       "      <td>...</td>\n",
       "      <td>...</td>\n",
       "    </tr>\n",
       "    <tr>\n",
       "      <th>2020-01-28</th>\n",
       "      <td>0.00000</td>\n",
       "      <td>67</td>\n",
       "      <td>36</td>\n",
       "      <td>51.5</td>\n",
       "      <td>4.295638</td>\n",
       "    </tr>\n",
       "    <tr>\n",
       "      <th>2020-01-29</th>\n",
       "      <td>0.06000</td>\n",
       "      <td>53</td>\n",
       "      <td>35</td>\n",
       "      <td>44.0</td>\n",
       "      <td>2.776629</td>\n",
       "    </tr>\n",
       "    <tr>\n",
       "      <th>2020-01-30</th>\n",
       "      <td>0.00000</td>\n",
       "      <td>65</td>\n",
       "      <td>48</td>\n",
       "      <td>56.5</td>\n",
       "      <td>3.438450</td>\n",
       "    </tr>\n",
       "    <tr>\n",
       "      <th>2020-01-31</th>\n",
       "      <td>0.15000</td>\n",
       "      <td>56</td>\n",
       "      <td>48</td>\n",
       "      <td>52.0</td>\n",
       "      <td>2.154414</td>\n",
       "    </tr>\n",
       "    <tr>\n",
       "      <th>2020-02-01</th>\n",
       "      <td>0.00001</td>\n",
       "      <td>52</td>\n",
       "      <td>39</td>\n",
       "      <td>45.5</td>\n",
       "      <td>2.384471</td>\n",
       "    </tr>\n",
       "  </tbody>\n",
       "</table>\n",
       "<p>1101 rows × 5 columns</p>\n",
       "</div>"
      ],
      "text/plain": [
       "             Precip  Max_Temp  Min_Temp  Mean_Temp       PET\n",
       "Datetime                                                    \n",
       "2017-01-27  0.00000        58        39       48.5  3.189802\n",
       "2017-01-28  0.00000        51        38       44.5  2.403944\n",
       "2017-01-29  0.00000        63        38       50.5  3.755256\n",
       "2017-01-30  0.00000        65        31       48.0  4.131664\n",
       "2017-01-31  0.00000        75        35       55.0  5.095131\n",
       "...             ...       ...       ...        ...       ...\n",
       "2020-01-28  0.00000        67        36       51.5  4.295638\n",
       "2020-01-29  0.06000        53        35       44.0  2.776629\n",
       "2020-01-30  0.00000        65        48       56.5  3.438450\n",
       "2020-01-31  0.15000        56        48       52.0  2.154414\n",
       "2020-02-01  0.00001        52        39       45.5  2.384471\n",
       "\n",
       "[1101 rows x 5 columns]"
      ]
     },
     "execution_count": 11,
     "metadata": {},
     "output_type": "execute_result"
    }
   ],
   "source": [
    "X = pd.read_csv(\"../data/processed/gw_stage2.CSV\",\n",
    "                    parse_dates=['Datetime'],\n",
    "                    index_col=['Datetime'])\n",
    "print('Initial Input Size: ',X.shape)\n",
    "y = pd.read_csv(\"../data/processed/spring.CSV\",\n",
    "                    parse_dates=['datetime'],\n",
    "                    index_col=['datetime'])\n",
    "key_value = np.loadtxt(\"../data/processed/NameKey2.CSV\", dtype= \"str\", delimiter=\",\", skiprows=1)\n",
    "stationNames = { k:v for k,v in key_value }\n",
    "#print(stationNames)\n",
    "tooClose=['8','9','10','12','13','14','25', '44', '61', '72']\n",
    "for i in tooClose:\n",
    "    print(stationNames[i])\n",
    "\n",
    "#Drop values exctremely close to the Sprin head\n",
    "X.drop(X.columns[[8,9,10,12,13, 14, 25,44,61,72]], axis=1, inplace=True)\n",
    "print(\"Excluded GW-SW Input Shape: \", X.shape)\n",
    "X.rename(columns = stationNames, inplace = True)\n",
    "GW=X.iloc[:,:23]\n",
    "SW=X.iloc[:,23:]\n",
    "met=pd.read_csv(\"../data/processed/DailyMet.CSV\",\n",
    "                parse_dates=['Datetime'],\n",
    "                index_col=['Datetime'])\n",
    "\n",
    "X=pd.concat([X, met], axis=1)\n",
    "#print(X)\n",
    "MET=X.iloc[:,-5:]\n",
    "#print(X)\n",
    "train_names=X.columns\n",
    "\n",
    "\n",
    "#Add Y columns as a separate column\n",
    "y['timestamp']=y.index\n",
    "y['timestamp']=pd.to_datetime(y['timestamp']).dt.tz_convert(None)\n",
    "#=pd.to_datetime(['timestamp'], format='%Y-%m-%d %H:%M:%S')\n",
    "y=y.rename(columns={'Gage_Height':'Wakulla', 'timestamp':'Datetime'})\n",
    "y=y.set_index('Datetime')\n",
    "\n",
    "df=X.merge(y, how='inner', right_index=True, left_index=True)\n",
    "del(X,y)\n",
    "\n",
    "#GW\n",
    "MET"
   ]
  },
  {
   "cell_type": "code",
   "execution_count": 12,
   "metadata": {},
   "outputs": [
    {
     "data": {
      "text/plain": [
       "'\\n## Try New One\\ndef prepare_inputs_outputs(train, val, test, seq_len, inputs, output):   \\n    X_train, y_train = train[inputs], train[output][seq_len-1:]\\n    X_val, y_val = val[:len(val)-seq_len][inputs], val[[output]]\\n    X_test, y_test = test[:len(test)-seq_len][inputs], test[[output]]\\n    return X_train, y_train, X_val, y_val, X_test, y_test\\n'"
      ]
     },
     "execution_count": 12,
     "metadata": {},
     "output_type": "execute_result"
    }
   ],
   "source": [
    "def scale_and_split(df):\n",
    "    train, val = train_test_split(df, test_size=0.3, shuffle = False)\n",
    "    val, test = train_test_split(val, test_size=0.7, shuffle = False)\n",
    "    \n",
    "    #Use train set as the sclaer to prevent data leakage\n",
    "    X_scaler = StandardScaler().fit(train.iloc[:,:-1])\n",
    "    train_Xscaled = X_scaler.transform(train.iloc[:,:-1])\n",
    "    y_scaler= MinMaxScaler().fit(train.iloc[:,-1:])\n",
    "    train_yscaled= y_scaler.transform(train.iloc[:,-1:])\n",
    "    \n",
    "    train_scaled = pd.DataFrame(np.append(train_Xscaled, train_yscaled,1), columns = df.columns[:])\n",
    " \n",
    "    \n",
    "    val_Xscaled = X_scaler.transform(val.iloc[:,:-1])\n",
    "    val_yscaled= y_scaler.transform(val.iloc[:,-1:])\n",
    "    val_scaled = pd.DataFrame(np.append(val_Xscaled, val_yscaled,1), columns = df.columns[:])\n",
    "    \n",
    "    test_Xscaled = X_scaler.transform(test.iloc[:,:-1])\n",
    "    test_yscaled= y_scaler.transform(test.iloc[:,-1:])\n",
    "    test_scaled = pd.DataFrame(np.append(test_Xscaled, test_yscaled,1), columns = df.columns[:])\n",
    "    \n",
    "    full_scaled_X=X_scaler.transform(df.iloc[:,:-1])\n",
    "    full_scaled_y=y_scaler.transform(df.iloc[:,-1:])\n",
    "    \n",
    "    return train_scaled, val_scaled, test_scaled, X_scaler, y_scaler, full_scaled_X, full_scaled_y\n",
    "\n",
    "#Old one\n",
    "\n",
    "def prepare_inputs_outputs(train, val, test, seq_len, inputs, output):   \n",
    "    X_train, y_train = train[:len(train)-seq_len][inputs], train[[output]]\n",
    "    X_val, y_val = val[:len(val)-seq_len][inputs], val[[output]]\n",
    "    X_test, y_test = test[:len(val)-seq_len][inputs], test[[output]]\n",
    "    #test[:len(test)-seq_len][inputs], test[[output]]\n",
    "    return X_train, y_train, X_val, y_val, X_test, y_test\n",
    "\n",
    "'''\n",
    "## Try New One\n",
    "def prepare_inputs_outputs(train, val, test, seq_len, inputs, output):   \n",
    "    X_train, y_train = train[inputs], train[output][seq_len-1:]\n",
    "    X_val, y_val = val[:len(val)-seq_len][inputs], val[[output]]\n",
    "    X_test, y_test = test[:len(test)-seq_len][inputs], test[[output]]\n",
    "    return X_train, y_train, X_val, y_val, X_test, y_test\n",
    "'''\n",
    "###Theory here is that we take [seq_len] numbered away from trainX and pass it to Val_X \n",
    "#and same with val to Test set\n",
    "#May not be necessary"
   ]
  },
  {
   "cell_type": "code",
   "execution_count": 13,
   "metadata": {},
   "outputs": [
    {
     "name": "stdout",
     "output_type": "stream",
     "text": [
      "1101\n"
     ]
    }
   ],
   "source": [
    "parameters = {'inputs':train_names,\n",
    "              'input_size': len(train_names),\n",
    "              'outputs':['Wakulla'],\n",
    "              'seq_len': 30,\n",
    "              'hidden_size': 64, #Same as batch\n",
    "              'batch_size_train':64,\n",
    "              'batch_size_val':8,\n",
    "              'batch_size_test':8,\n",
    "              'lr':0.0005,\n",
    "              'epochs':10,\n",
    "              'num_layers':1   #Number of LSTM layers\n",
    "             }\n",
    "\n",
    "train, val, test, X_scaler, y_scaler, full_scaled_X, full_scaled_y = scale_and_split(df) \n",
    "#inputs=parameters['inputs']\n",
    "#output=parameters['outputs'][0]\n",
    "#seq_len=parameters['seq_len']\n",
    "#rint(train[output][seq_len-1:])\n",
    "\n",
    "\n",
    "\n",
    "\n",
    "X_train, y_train, X_val, y_val, X_test, y_test = prepare_inputs_outputs(train, val, test, \n",
    "                                                                        parameters['seq_len'], \n",
    "                                                                        parameters['inputs'], \n",
    "                                                                        parameters['outputs'][0])\n",
    "print(len(y_train)+len(y_val)+len(y_test))                                                           "
   ]
  },
  {
   "cell_type": "code",
   "execution_count": 14,
   "metadata": {},
   "outputs": [
    {
     "data": {
      "text/plain": [
       "[0, 1]"
      ]
     },
     "execution_count": 14,
     "metadata": {},
     "output_type": "execute_result"
    }
   ],
   "source": [
    "a=[0,1,2,3,4,5,6,7,8]\n",
    "a[:3-1]"
   ]
  },
  {
   "cell_type": "code",
   "execution_count": 15,
   "metadata": {},
   "outputs": [],
   "source": [
    "class TimeSeries(Dataset):\n",
    "    def __init__(self, X, y, seq_len):\n",
    "        self.X = torch.tensor(np.array(X) ,dtype=torch.float32)\n",
    "        self.y = torch.tensor(np.array(y) ,dtype=torch.float32)\n",
    "        #self.column_input = column_input\n",
    "        #self.column_output = column_output\n",
    "        self.seq_len = seq_len\n",
    "        \n",
    "    #Gets the input sequence [X : X +seq_len], adn the corresponding, singular y+seq_len    \n",
    "    def __getitem__(self,idx):\n",
    "        return self.X[idx:idx+self.seq_len-1], self.y[idx+self.seq_len-1]\n",
    "\n",
    "    def __len__(self):\n",
    "        return len(self.X) - (self.seq_len-1)\n",
    "    \n",
    "    \n",
    "def get_dataloader(X, y,seq_len, batch_size):\n",
    "    return DataLoader(TimeSeries(X, y, seq_len),  batch_size, shuffle=False, drop_last = True)"
   ]
  },
  {
   "cell_type": "code",
   "execution_count": 16,
   "metadata": {},
   "outputs": [],
   "source": [
    "class LSTM_Model(nn.Module):\n",
    "    def __init__(self, input_size, hidden_size, num_layers, seq_length):\n",
    "        super().__init__()\n",
    "        self.num_layers = num_layers #number of layers\n",
    "        self.input_size = input_size #input size\n",
    "        self.hidden_size = hidden_size #hidden state\n",
    "        self.seq_length = seq_length #sequence length\n",
    "\n",
    "        self.lstm = nn.LSTM(input_size=input_size, hidden_size=hidden_size,\n",
    "                          num_layers=num_layers, batch_first=True) #lstm\n",
    "        self.dropout=nn.Dropout(0.3)\n",
    "\n",
    "        self.fc =  nn.Linear(hidden_size, hidden_size) #fully connected 1\n",
    "        self.relu= nn.ReLU()\n",
    "        self.fc1 =  nn.Linear(hidden_size, 1) #fully connected 1\n",
    "        #self.sigmoid=nn.Sigmoid()\n",
    "         \n",
    "    \n",
    "    def forward(self,x):   \n",
    "        h_0 = Variable(torch.zeros(self.num_layers, x.size(0), self.hidden_size)) #hidden state\n",
    "        c_0 = Variable(torch.zeros(self.num_layers, x.size(0), self.hidden_size)) #internal state\n",
    "        # Propagate input through LSTM\n",
    "        output, (hn, cn) = self.lstm(x, (h_0, c_0)) #lstm with input, hidden, and internal state\n",
    "        #hn = hn.view(-1, self.hidden_size) #reshaping the data for Dense layer next\n",
    "        #out=self.dropout(hn)\n",
    "        output, (hn, cn) = self.lstm(x, (hn, cn))\n",
    "        out = self.fc(hn)#first Dense\n",
    "        out = self.relu(out)\n",
    "       # out = self.sigmoid(out)\n",
    "        #out=self.dropout(out)\n",
    "        out = self.fc1(out)#first Dense\n",
    "        #out = self.relu(out)\n",
    "        return out"
   ]
  },
  {
   "cell_type": "code",
   "execution_count": 17,
   "metadata": {},
   "outputs": [
    {
     "data": {
      "text/plain": [
       "LSTM_Model(\n",
       "  (lstm): LSTM(69, 64, batch_first=True)\n",
       "  (dropout): Dropout(p=0.3, inplace=False)\n",
       "  (fc): Linear(in_features=64, out_features=64, bias=True)\n",
       "  (relu): ReLU()\n",
       "  (fc1): Linear(in_features=64, out_features=1, bias=True)\n",
       ")"
      ]
     },
     "execution_count": 17,
     "metadata": {},
     "output_type": "execute_result"
    }
   ],
   "source": [
    "New_LSTM=LSTM_Model(parameters['input_size'], parameters['hidden_size'], parameters['num_layers'], parameters['seq_len'])\n",
    "New_LSTM"
   ]
  },
  {
   "cell_type": "code",
   "execution_count": 18,
   "metadata": {},
   "outputs": [],
   "source": [
    "def train_model(model, train_loader, val_loader, loss_function, optimizer, epochs):\n",
    "\n",
    "\n",
    "    train_val_history = {'train': [],\n",
    "                        'val': []}\n",
    "    for i in trange(epochs):\n",
    "        for j, data in enumerate(train_loader):\n",
    "            inputs, labels = data[0].to(device), data[1].to(device)\n",
    "            optimizer.zero_grad()\n",
    "            #print(inputs.shape)\n",
    "            y_pred = model(inputs)\n",
    "            #print(y_pred.shape)\n",
    "            labels_3D=labels.reshape(1,labels.shape[0],labels.shape[1])\n",
    "           \n",
    "            single_loss = torch.sqrt(loss_function(y_pred, labels_3D)) #RMSE\n",
    "\n",
    "            single_loss.backward()\n",
    "\n",
    "            optimizer.step()\n",
    "\n",
    "        train_val_history['train'].append(single_loss.item())\n",
    "        #print(\"Training data : \" + f'epoch: {i:3} loss: {single_loss.item():10.8f}')\n",
    "\n",
    "        for j, data in enumerate(val_loader):\n",
    "            inputs, labels = data[0].to(device), data[1].to(device)\n",
    "            optimizer.zero_grad()\n",
    "            labels_3D=labels.reshape(1,labels.shape[0],labels.shape[1])\n",
    "            y_pred = model(inputs)\n",
    "\n",
    "            single_loss = torch.sqrt(loss_function(y_pred, labels_3D))\n",
    "\n",
    "        train_val_history['val'].append(single_loss.item())\n",
    "        if i % 20 == 0:\n",
    "            print(\"Training data : epoch: \", i, \" loss: \", train_val_history['train'][-1])\n",
    "            print(\"Validation data :  epoch: \", i, \" loss: \", train_val_history['val'][-1])\n",
    "\n",
    "    #print(f'epoch: {i:3} loss: {single_loss.item():10.10f}')\n",
    "    return model, train_val_history"
   ]
  },
  {
   "cell_type": "code",
   "execution_count": 19,
   "metadata": {},
   "outputs": [
    {
     "name": "stderr",
     "output_type": "stream",
     "text": [
      " 10%|████████▎                                                                          | 1/10 [00:00<00:07,  1.28it/s]"
     ]
    },
    {
     "name": "stdout",
     "output_type": "stream",
     "text": [
      "Training data : epoch:  0  loss:  0.5942018032073975\n",
      "Validation data :  epoch:  0  loss:  0.07257873564958572\n"
     ]
    },
    {
     "name": "stderr",
     "output_type": "stream",
     "text": [
      "100%|██████████████████████████████████████████████████████████████████████████████████| 10/10 [00:07<00:00,  1.34it/s]\n"
     ]
    }
   ],
   "source": [
    "train_loader = get_dataloader(X_train, y_train, parameters['seq_len'],parameters['batch_size_train'])\n",
    "val_loader = get_dataloader(X_val, y_val, parameters['seq_len'],parameters['batch_size_val'])\n",
    "test_loader = get_dataloader(X_test, y_test, parameters['seq_len'], parameters['batch_size_test'])\n",
    "full_loader=get_dataloader(full_scaled_X, full_scaled_y, parameters['seq_len'], parameters['batch_size_test'])\n",
    "#model = New_LSTM(input_size=len(parameters['inputs']), hidden_layer_size=64, output_size=1, seq_len=parameters['seq_len']).to(device)\n",
    "optimizer = torch.optim.Adam(New_LSTM.parameters(), lr=parameters['lr'])\n",
    "loss_function = nn.MSELoss()\n",
    "\n",
    "\n",
    "model_LSTM, train_val_history = train_model(New_LSTM, \n",
    "                                                train_loader, \n",
    "                                                val_loader,\n",
    "                                                loss_function, \n",
    "                                                optimizer, \n",
    "                                                parameters['epochs'])\n",
    "                                                "
   ]
  },
  {
   "cell_type": "code",
   "execution_count": 20,
   "metadata": {},
   "outputs": [
    {
     "data": {
      "text/plain": [
       "[<matplotlib.lines.Line2D at 0x1c293ce7488>]"
      ]
     },
     "execution_count": 20,
     "metadata": {},
     "output_type": "execute_result"
    },
    {
     "data": {
      "image/png": "[encoded data removed]",
      "text/plain": [
       "<Figure size 432x288 with 1 Axes>"
      ]
     },
     "metadata": {
      "needs_background": "light"
     },
     "output_type": "display_data"
    }
   ],
   "source": [
    "plt.plot(train_val_history['train'])\n",
    "plt.plot(train_val_history['val'])"
   ]
  },
  {
   "cell_type": "code",
   "execution_count": 21,
   "metadata": {},
   "outputs": [
    {
     "data": {
      "text/plain": [
       "0.0557999068240619"
      ]
     },
     "execution_count": 21,
     "metadata": {},
     "output_type": "execute_result"
    },
    {
     "data": {
      "image/png": "[encoded data removed]",
      "text/plain": [
       "<Figure size 432x288 with 1 Axes>"
      ]
     },
     "metadata": {
      "needs_background": "light"
     },
     "output_type": "display_data"
    }
   ],
   "source": [
    "test_list=[] \n",
    "labels_list=[]\n",
    "for j, data in enumerate(test_loader):\n",
    "            inputs, labels = data[0].to(device), data[1].to(device)\n",
    "            #optimizer.zero_grad()\n",
    "            labels_3D=labels.reshape(1,labels.shape[0],labels.shape[1])\n",
    "            y_pred = New_LSTM(inputs)\n",
    "            test_list.append(y_pred.squeeze().tolist())\n",
    "            labels_list.append(labels.squeeze().tolist())\n",
    "            single_loss = torch.sqrt(loss_function(y_pred, labels_3D))\n",
    "predic_list = [item for sublist in test_list for item in sublist]\n",
    "predictions=np.array(predic_list).reshape(-1,1)\n",
    "\n",
    "real_y_list=[item for sublist in labels_list for item in sublist]\n",
    "real_y=np.array(real_y_list).reshape(-1,1)\n",
    "\n",
    "predictions=y_scaler.inverse_transform(predictions)\n",
    "real_y=y_scaler.inverse_transform(real_y)\n",
    "#print(predictions.shape)\n",
    "plt.plot(predictions)\n",
    "plt.plot(real_y)\n",
    "\n",
    "from sklearn.metrics import mean_squared_error as mse\n",
    "\n",
    "mse(predictions, real_y)"
   ]
  },
  {
   "cell_type": "code",
   "execution_count": 22,
   "metadata": {},
   "outputs": [
    {
     "name": "stdout",
     "output_type": "stream",
     "text": [
      "train  MSE:  0.03117331158437103\n",
      "val  MSE:  0.06118311085482475\n",
      "test  MSE:  0.0557999068240619\n"
     ]
    }
   ],
   "source": [
    "from sklearn.metrics import mean_squared_error as mse\n",
    "\n",
    "full_label=[]\n",
    "full_pred=[]\n",
    "\n",
    "train_label=[]\n",
    "train_pred=[]\n",
    "val_label=[]\n",
    "val_pred=[]\n",
    "test_label=[]\n",
    "test_pred=[]\n",
    "\n",
    "for j, data in enumerate(train_loader):\n",
    "            inputs, labels = data[0].to(device), data[1].to(device)\n",
    "            #optimizer.zero_grad()\n",
    "            labels_3D=labels.reshape(1,labels.shape[0],labels.shape[1])\n",
    "            y_pred = New_LSTM(inputs)          \n",
    "            train_pred.append(y_pred.squeeze().tolist())\n",
    "            train_label.append(labels.squeeze().tolist())\n",
    "train_predictions_l = [item for sublist in train_pred for item in sublist]\n",
    "train_predictions=np.array(train_predictions_l).reshape(-1,1)\n",
    "\n",
    "train_real_y_l=[item for sublist in train_label for item in sublist]\n",
    "train_real_y=np.array(train_real_y_l).reshape(-1,1)\n",
    "\n",
    "train_predictions=y_scaler.inverse_transform(train_predictions)\n",
    "train_real_y=y_scaler.inverse_transform(train_real_y)\n",
    "print(\"train  MSE: \", mse(train_predictions, train_real_y))\n",
    "\n",
    "\n",
    "for j, data in enumerate(val_loader):\n",
    "            inputs, labels = data[0].to(device), data[1].to(device)\n",
    "            #optimizer.zero_grad()\n",
    "            labels_3D=labels.reshape(1,labels.shape[0],labels.shape[1])\n",
    "            y_pred = New_LSTM(inputs)            \n",
    "            val_pred.append(y_pred.squeeze().tolist())\n",
    "            val_label.append(labels.squeeze().tolist())\n",
    "\n",
    "\n",
    "val_predictions_l = [item for sublist in val_pred for item in sublist]\n",
    "val_predictions=np.array(val_predictions_l).reshape(-1,1)\n",
    "\n",
    "val_real_y_l=[item for sublist in val_label for item in sublist]\n",
    "val_real_y=np.array(val_real_y_l).reshape(-1,1)\n",
    "\n",
    "val_predictions=y_scaler.inverse_transform(val_predictions)\n",
    "val_real_y=y_scaler.inverse_transform(val_real_y)\n",
    "print(\"val  MSE: \", mse(val_predictions, val_real_y))\n",
    "\n",
    "for j, data in enumerate(test_loader):\n",
    "            inputs, labels = data[0].to(device), data[1].to(device)\n",
    "            #optimizer.zero_grad()\n",
    "            labels_3D=labels.reshape(1,labels.shape[0],labels.shape[1])\n",
    "            y_pred = New_LSTM(inputs)        \n",
    "            test_pred.append(y_pred.squeeze().tolist())\n",
    "            test_label.append(labels.squeeze().tolist())\n",
    "\n",
    "test_predictions_l = [item for sublist in test_pred for item in sublist]\n",
    "test_predictions=np.array(test_predictions_l).reshape(-1,1)\n",
    "\n",
    "test_real_y_l=[item for sublist in test_label for item in sublist]\n",
    "test_real_y=np.array(test_real_y_l).reshape(-1,1)\n",
    "\n",
    "test_predictions=y_scaler.inverse_transform(test_predictions)\n",
    "test_real_y=y_scaler.inverse_transform(test_real_y)\n",
    "print(\"test  MSE: \", mse(test_predictions, test_real_y))"
   ]
  },
  {
   "cell_type": "code",
   "execution_count": 23,
   "metadata": {},
   "outputs": [
    {
     "name": "stdout",
     "output_type": "stream",
     "text": [
      "Full MSE:  0.0561946882905791\n"
     ]
    },
    {
     "data": {
      "text/plain": [
       "[<matplotlib.lines.Line2D at 0x1c293e3d408>]"
      ]
     },
     "execution_count": 23,
     "metadata": {},
     "output_type": "execute_result"
    },
    {
     "data": {
      "image/png": "[encoded data removed]",
      "text/plain": [
       "<Figure size 432x288 with 1 Axes>"
      ]
     },
     "metadata": {
      "needs_background": "light"
     },
     "output_type": "display_data"
    }
   ],
   "source": [
    "full_pred=[]\n",
    "full_label=[]\n",
    "for j, data in enumerate(full_loader):\n",
    "            inputs, labels = data[0].to(device), data[1].to(device)\n",
    "            #optimizer.zero_grad()\n",
    "            labels_3D=labels.reshape(1,labels.shape[0],labels.shape[1])\n",
    "            y_pred = New_LSTM(inputs)\n",
    "            full_pred.append(y_pred.squeeze().tolist())\n",
    "            full_label.append(labels.squeeze().tolist())\n",
    "\n",
    "full_predictions_l = [item for sublist in full_pred for item in sublist]\n",
    "full_predictions=np.array(full_predictions_l).reshape(-1,1)\n",
    "\n",
    "full_real_y_l=[item for sublist in full_label for item in sublist]\n",
    "full_real_y=np.array(full_real_y_l).reshape(-1,1)\n",
    "\n",
    "full_predictions=y_scaler.inverse_transform(full_predictions)\n",
    "full_real_y=y_scaler.inverse_transform(full_real_y)\n",
    "\n",
    "print(\"Full MSE: \", mse(full_predictions, full_real_y))\n",
    "\n",
    "plt.plot(full_predictions)\n",
    "plt.plot(full_real_y)\n"
   ]
  },
  {
   "cell_type": "code",
   "execution_count": 68,
   "metadata": {},
   "outputs": [
    {
     "ename": "SyntaxError",
     "evalue": "invalid syntax (<ipython-input-68-8888cefd2a13>, line 1)",
     "output_type": "error",
     "traceback": [
      "\u001b[1;36m  File \u001b[1;32m\"<ipython-input-68-8888cefd2a13>\"\u001b[1;36m, line \u001b[1;32m1\u001b[0m\n\u001b[1;33m    train  MSE:  0.03400184075674894\u001b[0m\n\u001b[1;37m             ^\u001b[0m\n\u001b[1;31mSyntaxError\u001b[0m\u001b[1;31m:\u001b[0m invalid syntax\n"
     ]
    }
   ],
   "source": [
    "train  MSE:  0.03400184075674894\n",
    "val  MSE:  0.10336342906543683\n",
    "test  MSE:  0.04382218300791058"
   ]
  },
  {
   "cell_type": "code",
   "execution_count": null,
   "metadata": {},
   "outputs": [],
   "source": []
  }
 ],
 "metadata": {
  "kernelspec": {
   "display_name": "Python 3",
   "language": "python",
   "name": "python3"
  },
  "language_info": {
   "codemirror_mode": {
    "name": "ipython",
    "version": 3
   },
   "file_extension": ".py",
   "mimetype": "text/x-python",
   "name": "python",
   "nbconvert_exporter": "python",
   "pygments_lexer": "ipython3",
   "version": "3.7.4"
  }
 },
 "nbformat": 4,
 "nbformat_minor": 4
}
